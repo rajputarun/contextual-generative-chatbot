{
 "cells": [
  {
   "cell_type": "markdown",
   "metadata": {},
   "source": [
    "# Context aware chatbot\n",
    "## Finite state machine + Intent classifier + generative model"
   ]
  },
  {
   "cell_type": "markdown",
   "metadata": {},
   "source": [
    "### First let's define a basic intent classifier"
   ]
  },
  {
   "cell_type": "code",
   "execution_count": 5,
   "metadata": {
    "collapsed": true
   },
   "outputs": [],
   "source": [
    "class IntentClassifier(object):\n",
    "    def __init__(self, patterns):\n",
    "        self.patterns = patterns\n",
    "    \n",
    "    def classify(self, text):\n",
    "        for intent, pattern in self.patterns.items():\n",
    "            for word in pattern:\n",
    "                if word in text.lower():\n",
    "                    return intent\n",
    "        return \"general\""
   ]
  },
  {
   "cell_type": "code",
   "execution_count": 6,
   "metadata": {
    "collapsed": false
   },
   "outputs": [
    {
     "name": "stdout",
     "output_type": "stream",
     "text": [
      "greeting\n"
     ]
    }
   ],
   "source": [
    "patterns = {'greeting': ['hi', 'hello'],\n",
    " 'purchase': ['ticket', 'buy', 'reserve'],\n",
    " 'refund': ['return', 'refund']\n",
    "}\n",
    "\n",
    "iClassifier = IntentClassifier(patterns)\n",
    "\n",
    "print(iClassifier.classify(\"Hi, how are you doing?\"))"
   ]
  },
  {
   "cell_type": "markdown",
   "metadata": {},
   "source": [
    "## Now, let's define a very basic generative model"
   ]
  },
  {
   "cell_type": "code",
   "execution_count": 7,
   "metadata": {
    "collapsed": false
   },
   "outputs": [
    {
     "name": "stdout",
     "output_type": "stream",
     "text": [
      "Oh, we feel sorry about that, please email support@chatbot with your request and it will be processed withing 1-2 business days.\n"
     ]
    }
   ],
   "source": [
    "class TextGenerator(object):\n",
    "    def generate(self, intent):\n",
    "        if intent == \"greeting\":\n",
    "            return \"Hello\"\n",
    "        if intent == \"purchase\":\n",
    "            return \"We have tickets to Paris, London, Berlin, Bern and Barcelona\"\n",
    "        if intent == \"refund\":\n",
    "            return \"Oh, we feel sorry about that, please email support@chatbot with your \" + \\\n",
    "                   \"request and it will be processed withing 1-2 business days.\"\n",
    "        return \"I did not understand that, please rephrase.\"\n",
    "    \n",
    "tg = TextGenerator()\n",
    "print(tg.generate(\"refund\"))"
   ]
  },
  {
   "cell_type": "markdown",
   "metadata": {},
   "source": [
    "## Now, it's time for a finite state machine\n",
    "### A finite state machine is a set of states and a set of transitions.\n",
    "These transitions depend on certain actions, for example when you receive an input signal that says refund\n",
    "you move from the state greeting to the state refund"
   ]
  },
  {
   "cell_type": "markdown",
   "metadata": {},
   "source": [
    "![title](states.png)"
   ]
  },
  {
   "cell_type": "code",
   "execution_count": 9,
   "metadata": {
    "collapsed": false
   },
   "outputs": [
    {
     "name": "stdout",
     "output_type": "stream",
     "text": [
      "Hello\n",
      "> Hello\n",
      "I'd like to inquire about tickets\n",
      "> We have tickets to Paris, London, Berlin, Bern and Barcelona\n",
      "What about the refund policy?\n",
      "> Oh, we feel sorry about that, please email support@chatbot with your request and it will be processed withing 1-2 business days.\n",
      "Thanks!\n",
      "> I did not understand that, please rephrase.\n"
     ]
    }
   ],
   "source": [
    "states = [\"greeting\", \"refund\", \"purchase\"]\n",
    "\n",
    "state = \"init\"\n",
    "\n",
    "while True:\n",
    "    text = input()\n",
    "    action = iClassifier.classify(text)\n",
    "    if state == \"init\" and action == \"greeting\":\n",
    "        state = \"greeting\"\n",
    "        print(\"> \" + tg.generate(\"greeting\"))\n",
    "    elif state == \"greeting\" and action == \"greeting\":\n",
    "        print(\"> \" + tg.generate(\"general\"))\n",
    "    elif state == \"greeting\" and action == \"purchase\":\n",
    "        state = \"purchase\"\n",
    "        print(\"> \" + tg.generate(\"purchase\"))\n",
    "    elif state == \"greeting\" and action == \"refund\":\n",
    "        state = \"refund\"\n",
    "        print(\"> \" + tg.generate(\"refund\"))\n",
    "    elif state == \"purchase\" and action == \"refund\":\n",
    "        state = \"refund\"\n",
    "        print(\"> \" + tg.generate(\"refund\"))\n",
    "    else:\n",
    "        print(\"> \" + tg.generate(\"general\"))\n",
    "        break"
   ]
  },
  {
   "cell_type": "markdown",
   "metadata": {},
   "source": [
    "## Extending this basic framework"
   ]
  },
  {
   "cell_type": "markdown",
   "metadata": {},
   "source": [
    "### Ideas to extend this framework is by:\n",
    "- More sophisticated states and transitions\n",
    "- Seq2Seq model for text generation trained on a seed intent or previous chat as context\n",
    "- More complex intent classifier, might be an LSTM classifier\n",
    "\n",
    "### However, this is a basic framework for making your chatbot context aware. you can easily build upon it."
   ]
  }
 ],
 "metadata": {
  "kernelspec": {
   "display_name": "Python 3",
   "language": "python",
   "name": "python3"
  },
  "language_info": {
   "codemirror_mode": {
    "name": "ipython",
    "version": 3
   },
   "file_extension": ".py",
   "mimetype": "text/x-python",
   "name": "python",
   "nbconvert_exporter": "python",
   "pygments_lexer": "ipython3",
   "version": "3.5.5"
  }
 },
 "nbformat": 4,
 "nbformat_minor": 2
}
